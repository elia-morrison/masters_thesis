{
 "cells": [
  {
   "cell_type": "code",
   "execution_count": null,
   "id": "71ae8462-ba38-490a-91a0-856ff901f272",
   "metadata": {},
   "outputs": [],
   "source": [
    "import threading\n",
    "import openai\n",
    "import os\n",
    "import random\n",
    "import datetime\n",
    "import json\n",
    "import jsonlines\n",
    "import sqlite3\n",
    "from os.path import join\n",
    "import time"
   ]
  },
  {
   "cell_type": "code",
   "execution_count": null,
   "id": "9b667826-445f-4028-aa8a-a2a655bd272d",
   "metadata": {},
   "outputs": [],
   "source": [
    "DATA_PATH = '/media/data/hr/data/resumes_json/'\n",
    "DATABASE_PATH = '/media/data/hr/data/resumes.sqlite'"
   ]
  },
  {
   "cell_type": "code",
   "execution_count": null,
   "id": "6d92bded-3f7a-4fc6-bc29-91bcc582c9cf",
   "metadata": {},
   "outputs": [],
   "source": [
    "conn = sqlite3.connect(DATABASE_PATH)\n",
    "c = conn.cursor()"
   ]
  },
  {
   "cell_type": "code",
   "execution_count": null,
   "id": "af98160d-8077-4b12-bb4f-4e5c829a555b",
   "metadata": {},
   "outputs": [],
   "source": [
    "def sorted_positions(positions):\n",
    "    for pos in positions:\n",
    "        end_date = pos['EndDate']\n",
    "        if 'Year' in end_date:\n",
    "            real_date = datetime.datetime(int(end_date['Year']), 1, 1)\n",
    "        elif 'YearMonth' in end_date:\n",
    "            year, month = [int(x) for x in end_date['YearMonth'].split('-')]\n",
    "            real_date = datetime.datetime(year, month, 1)\n",
    "        elif 'StringDate' in end_date:\n",
    "            if end_date['StringDate'] == 'current':\n",
    "                real_date = datetime.datetime.now()\n",
    "            else:\n",
    "                continue\n",
    "        elif 'AnyDate' in end_date:\n",
    "            year, month, date = [int(x) for x in end_date['AnyDate'].split('-')]\n",
    "            real_date = datetime.datetime(year, month, date)\n",
    "\n",
    "        pos['RealDate'] = real_date\n",
    "\n",
    "    return sorted(positions, key=lambda x: x['RealDate'])"
   ]
  },
  {
   "cell_type": "code",
   "execution_count": null,
   "id": "362b63ee-4e6c-46af-a396-66925daa585c",
   "metadata": {},
   "outputs": [],
   "source": [
    "import os\n",
    "\n",
    "def decode(contents):\n",
    "    u = contents.decode(\"latin_1\")\n",
    "    return u\n",
    "\n",
    "def read_and_decode(directory):\n",
    "    for row in c.execute('SELECT * from llm_batch_1'):\n",
    "        filepath = os.path.join(directory, row[1] + '.json')\n",
    "        with open(filepath, \"rb\") as file:\n",
    "            #print(filename)\n",
    "            try:\n",
    "                contents = file.read()\n",
    "                decoded_contents = decode(contents)\n",
    "                outer_json = json.loads(decoded_contents)\n",
    "                if outer_json['Info']['Code'] != \"Success\":\n",
    "                    continue\n",
    "                parsed_document = json.loads(outer_json[\"Value\"][\"ParsedDocument\"])\n",
    "                employment_history = parsed_document[\"Resume\"][\"StructuredXMLResume\"][\"EmploymentHistory\"][\"EmployerOrg\"]\n",
    "                positions = []\n",
    "                for emp in employment_history:\n",
    "                    for pos in emp['PositionHistory']:\n",
    "                        if 'Description' not in pos:\n",
    "                            continue\n",
    "                        if 'EndDate' not in pos or 'Title' not in pos:\n",
    "                            continue\n",
    "                        #print(pos['Title'])\n",
    "                        # if 'AnyDate' in pos['EndDate']:\n",
    "                        #     print(pos['EndDate'])\n",
    "                        positions.append({'Title': pos['Title'], 'EndDate': pos['EndDate'], 'Description': pos['Description']})\n",
    "\n",
    "                #print(positions)\n",
    "\n",
    "                positions = sorted_positions(positions)\n",
    "                        \n",
    "                yield positions, filepath\n",
    "            except Exception as e:\n",
    "                print(f'Error reading JSON: {e}')\n",
    "                continue\n",
    "\n",
    "dataset_chunk = []\n",
    "with open('batch_1_job_titles.json', 'w') as f:\n",
    "    for i, (positions, filepath) in enumerate(read_and_decode(DATA_PATH)):\n",
    "        f.write(json.dumps(positions, default=str) + '\\n')"
   ]
  },
  {
   "cell_type": "markdown",
   "id": "63f7308a-42a5-49df-a180-905223da8a00",
   "metadata": {},
   "source": [
    "# Prepare for training"
   ]
  },
  {
   "cell_type": "code",
   "execution_count": null,
   "id": "123543be-4029-4a9b-9713-d6c149764037",
   "metadata": {},
   "outputs": [],
   "source": [
    "train_data = []\n",
    "val_data = []\n",
    "with open('batch_1_job_titles.json', 'r') as f:\n",
    "    for i, line in enumerate(f):\n",
    "        experiences = json.loads(line)\n",
    "        if len(experiences) <= 2:\n",
    "            continue\n",
    "\n",
    "        last_job = experiences[-1]\n",
    "        titles = '</s><s>'.join(t[\"Title\"] for t in experiences[:-1])\n",
    "\n",
    "        last_job_description = last_job[\"Description\"]\n",
    "        if len(last_job_description) < 30:\n",
    "            continue\n",
    "\n",
    "        datapoint = {\"prev\": titles, \"cur\": last_job_description}\n",
    "        if i <= 5000:\n",
    "            val_data.append(datapoint)\n",
    "        else:\n",
    "            train_data.append(datapoint)"
   ]
  },
  {
   "cell_type": "code",
   "execution_count": null,
   "id": "5aa656ec-8ec5-49a2-a3cc-af1428f96d1b",
   "metadata": {},
   "outputs": [],
   "source": [
    "with jsonlines.open('titles_train.jsonl', mode='w') as writer:\n",
    "    writer.write_all(train_data)\n",
    "\n",
    "with jsonlines.open('titles_val.jsonl', mode='w') as writer:\n",
    "    writer.write_all(val_data)"
   ]
  }
 ],
 "metadata": {
  "kernelspec": {
   "display_name": "Python 3 (ipykernel)",
   "language": "python",
   "name": "python3"
  },
  "language_info": {
   "codemirror_mode": {
    "name": "ipython",
    "version": 3
   },
   "file_extension": ".py",
   "mimetype": "text/x-python",
   "name": "python",
   "nbconvert_exporter": "python",
   "pygments_lexer": "ipython3"
  }
 },
 "nbformat": 4,
 "nbformat_minor": 5
}

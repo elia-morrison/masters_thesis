{
 "cells": [
  {
   "cell_type": "code",
   "execution_count": null,
   "id": "585d1291-2928-4976-b40a-47ceff393719",
   "metadata": {},
   "outputs": [],
   "source": [
    "import jsonlines\n",
    "import random\n",
    "from sentence_transformers import SentenceTransformer, models, losses, InputExample\n",
    "from sentence_transformers.evaluation import BinaryClassificationEvaluator\n",
    "from torch.utils.data import DataLoader"
   ]
  },
  {
   "cell_type": "code",
   "execution_count": null,
   "id": "8e538d17-9418-41d6-b98c-0801783243ab",
   "metadata": {},
   "outputs": [],
   "source": [
    "checkpoint_path = '/media/data/hr/BERTlike/checkpoint-495000'"
   ]
  },
  {
   "cell_type": "code",
   "execution_count": null,
   "id": "5b67fff3-57bd-4223-bcd8-1c209ded8b1c",
   "metadata": {},
   "outputs": [],
   "source": [
    "word_embedding_model = models.Transformer(checkpoint_path, max_seq_length=256)\n",
    "pooling_model = models.Pooling(word_embedding_model.get_word_embedding_dimension())\n",
    "\n",
    "model = SentenceTransformer(modules=[word_embedding_model, pooling_model])"
   ]
  },
  {
   "cell_type": "code",
   "execution_count": null,
   "id": "6cb912db-324d-4f69-89d1-4b8fec2a4270",
   "metadata": {},
   "outputs": [],
   "source": [
    "train_data = []\n",
    "with jsonlines.open('titles_train.jsonl') as reader:\n",
    "    for obj in reader:\n",
    "        train_data.append(InputExample(texts=[obj['prev'], obj['cur']]))"
   ]
  },
  {
   "cell_type": "code",
   "execution_count": null,
   "id": "a21f50f6-eb7e-4eb9-940f-dd2199ac159f",
   "metadata": {},
   "outputs": [],
   "source": [
    "sentence_pairs = []\n",
    "with jsonlines.open('titles_val.jsonl') as reader:\n",
    "    for i, obj in enumerate(reader):\n",
    "        sentence_pairs.append(obj)\n",
    "        if i > 1000:\n",
    "            break"
   ]
  },
  {
   "cell_type": "code",
   "execution_count": null,
   "id": "90f7d1fb-18ef-4f2c-a648-f8d64a9a38ae",
   "metadata": {},
   "outputs": [],
   "source": [
    "sentences1 = []\n",
    "sentences2 = []\n",
    "labels = []\n",
    "for pair in sentence_pairs:\n",
    "    sentences1.append(pair['prev'])\n",
    "    sentences2.append(pair['cur'])\n",
    "    labels.append(1)\n",
    "    sentences1.append(pair['prev'])\n",
    "    while True:\n",
    "        sampled_negative = random.choice(sentence_pairs)['cur']\n",
    "        if sampled_negative != pair['cur']:\n",
    "            sentences2.append(sampled_negative)\n",
    "            break\n",
    "    labels.append(0)"
   ]
  },
  {
   "cell_type": "code",
   "execution_count": null,
   "id": "8e9468de-ab32-464e-838a-ea8859d60589",
   "metadata": {},
   "outputs": [],
   "source": [
    "evaluator = BinaryClassificationEvaluator(sentences1=sentences1, sentences2=sentences2, labels=labels)"
   ]
  },
  {
   "cell_type": "code",
   "execution_count": null,
   "id": "0f4a8df7-67e7-45e6-aeba-8d04fa312207",
   "metadata": {},
   "outputs": [],
   "source": [
    "train_dataloader = DataLoader(train_data, shuffle=True, batch_size=2)\n",
    "train_loss = losses.MultipleNegativesRankingLoss(model=model)"
   ]
  },
  {
   "cell_type": "code",
   "execution_count": null,
   "id": "6fafed75-5721-4e08-b8e3-0decdeec38ca",
   "metadata": {},
   "outputs": [],
   "source": [
    "model.fit(train_objectives=[(train_dataloader, train_loss)], \n",
    "          evaluator=evaluator,\n",
    "          warmup_steps=100,\n",
    "          checkpoint_save_steps=1000, \n",
    "          evaluation_steps=1000,\n",
    "          output_path='output', \n",
    "          checkpoint_path='output', \n",
    "          save_best_model=False)"
   ]
  }
 ],
 "metadata": {
  "kernelspec": {
   "display_name": "Python 3 (ipykernel)",
   "language": "python",
   "name": "python3"
  },
  "language_info": {
   "codemirror_mode": {
    "name": "ipython",
    "version": 3
   },
   "file_extension": ".py",
   "mimetype": "text/x-python",
   "name": "python",
   "nbconvert_exporter": "python",
   "pygments_lexer": "ipython3"
  }
 },
 "nbformat": 4,
 "nbformat_minor": 5
}

{
 "cells": [
  {
   "cell_type": "code",
   "execution_count": null,
   "metadata": {},
   "outputs": [],
   "source": [
    "import jsonlines\n",
    "import pandas as pd\n",
    "import re\n",
    "from os.path import join\n",
    "from hr_research.config import output_path\n",
    "from collections import defaultdict \n",
    "from itertools import groupby"
   ]
  },
  {
   "cell_type": "code",
   "execution_count": null,
   "metadata": {},
   "outputs": [],
   "source": [
    "filepath = join(output_path, \"flat_experience_titles.jsonl\")\n",
    "extra_data_filepath = join(output_path, \"extra_flat_experience_titles.jsonl\")"
   ]
  },
  {
   "cell_type": "code",
   "execution_count": null,
   "metadata": {},
   "outputs": [],
   "source": [
    "def normalize_title(title):\n",
    "    title = title.lower().strip()\n",
    "    title = title.replace('.', '')\n",
    "    title = title.replace('/', ' ')\n",
    "    title = title.replace('\\\\', ' ')\n",
    "    title = title.replace('-', ' ')\n",
    "    title = re.sub(r\"\\bsenior\\b\", \"sr\", title)\n",
    "    title = re.sub(r\"\\bjunior\\b\", \"jr\", title)\n",
    "    title = ' '.join(title.split()) # collapse whitespaces\n",
    "    return title"
   ]
  },
  {
   "cell_type": "code",
   "execution_count": null,
   "metadata": {},
   "outputs": [],
   "source": [
    "def generate_job_seniority(normalized_jobs, seniority_matrix):\n",
    "    l = len(normalized_jobs)\n",
    "    for i in range(l-1):\n",
    "        for j in range(i+1, l):\n",
    "            pair = (normalized_jobs[i], normalized_jobs[j])\n",
    "            if pair[0] == pair[1]:\n",
    "                continue\n",
    "            seniority_matrix[pair] += 1"
   ]
  },
  {
   "cell_type": "code",
   "execution_count": null,
   "metadata": {},
   "outputs": [],
   "source": [
    "def get_seniority(job, other_job, seniority_matrix):\n",
    "    return seniority_matrix[(job, other_job)] / (seniority_matrix[(other_job, job)] + seniority_matrix[(job, other_job)])"
   ]
  },
  {
   "cell_type": "code",
   "execution_count": null,
   "metadata": {},
   "outputs": [],
   "source": [
    "SYNONYMS = defaultdict(set)\n",
    "SENIORITY_MATRIX = defaultdict(lambda: 0)\n",
    "\n",
    "with jsonlines.open(filepath, 'r') as reader:\n",
    "    for i, obj in enumerate(reader):\n",
    "        jobs = obj['titles']\n",
    "\n",
    "        # remove consecutive duplicates\n",
    "        jobs = [key for key, _group in groupby(jobs)]\n",
    "        \n",
    "        if len(jobs) < 2:\n",
    "            continue\n",
    "\n",
    "        normalized_jobs = []\n",
    "        for job in jobs:\n",
    "            norm_job = normalize_title(job)\n",
    "            SYNONYMS[norm_job].add(job)\n",
    "            normalized_jobs.append(norm_job)\n",
    "\n",
    "        generate_job_seniority(normalized_jobs, SENIORITY_MATRIX)\n",
    "\n",
    "        if i % 50000 == 0:\n",
    "            print(i)\n",
    "        #print(normalized_jobs)\n",
    "        #break"
   ]
  },
  {
   "cell_type": "code",
   "execution_count": null,
   "metadata": {},
   "outputs": [],
   "source": [
    "with jsonlines.open(extra_data_filepath, 'r') as reader:\n",
    "    for i, obj in enumerate(reader):\n",
    "        jobs = obj['titles']\n",
    "\n",
    "        # remove consecutive duplicates\n",
    "        jobs = [key for key, _group in groupby(jobs)]\n",
    "        \n",
    "        normalized_jobs = []\n",
    "        for job in jobs:\n",
    "            norm_job = normalize_title(job)\n",
    "            if norm_job not in SYNONYMS:\n",
    "                continue\n",
    "            # [!] We're not interested in new jobs which don't have non-normalized instances\n",
    "            SYNONYMS[norm_job].add(job)\n",
    "            normalized_jobs.append(norm_job)\n",
    "\n",
    "        if len(normalized_jobs) < 2:\n",
    "            continue\n",
    "\n",
    "        generate_job_seniority(normalized_jobs, SENIORITY_MATRIX)\n",
    "\n",
    "        if i % 50000 == 0:\n",
    "            print(i)"
   ]
  },
  {
   "cell_type": "code",
   "execution_count": null,
   "metadata": {},
   "outputs": [],
   "source": [
    "SALIENCES = defaultdict(lambda: 0)\n",
    "for k, v in SENIORITY_MATRIX.items():\n",
    "    s = tuple(sorted(k))\n",
    "    if k != s:\n",
    "        continue\n",
    "\n",
    "    inverse_s = (s[1], s[0])\n",
    "    if s in SENIORITY_MATRIX:\n",
    "        SALIENCES[s] += SENIORITY_MATRIX[s]\n",
    "\n",
    "    if inverse_s in SENIORITY_MATRIX:\n",
    "        SALIENCES[inverse_s] += SENIORITY_MATRIX[inverse_s]"
   ]
  },
  {
   "cell_type": "code",
   "execution_count": null,
   "metadata": {},
   "outputs": [],
   "source": [
    "SALIENCE_LOWER_BOUND = 100\n",
    "\n",
    "sorted_sal = sorted([(k, v) for k, v in SALIENCES.items() if v > SALIENCE_LOWER_BOUND], key=lambda x: x[1])\n",
    "sorted_sal = pd.DataFrame(sorted_sal, columns=['combination', 'salience'])\n",
    "sorted_sal['seniority_level'] = sorted_sal.apply(lambda x: get_seniority(x.combination[0], x.combination[1], SENIORITY_MATRIX), axis=1)"
   ]
  },
  {
   "cell_type": "code",
   "execution_count": null,
   "metadata": {},
   "outputs": [],
   "source": [
    "sorted_sal.describe()"
   ]
  },
  {
   "cell_type": "code",
   "execution_count": null,
   "metadata": {},
   "outputs": [],
   "source": [
    "sorted_sal[(sorted_sal.salience > 30) & (abs(sorted_sal.seniority_level - 0.5) > 0.2)]"
   ]
  },
  {
   "cell_type": "code",
   "execution_count": null,
   "metadata": {},
   "outputs": [],
   "source": [
    "sorted_sal['ordered_combination'] = sorted_sal.apply(\n",
    "    lambda x: x.combination if x.seniority_level > 0.5 else (x.combination[1], x.combination[0]), axis=1\n",
    ")"
   ]
  },
  {
   "cell_type": "code",
   "execution_count": null,
   "metadata": {},
   "outputs": [],
   "source": [
    "sorted_sal[abs(sorted_sal.seniority_level - 0.5) > 0.2]"
   ]
  },
  {
   "cell_type": "code",
   "execution_count": null,
   "metadata": {},
   "outputs": [],
   "source": [
    "out_pairs_path = join(output_path, \"seniority_pairs.jsonl\")\n",
    "\n",
    "with jsonlines.open(out_pairs_path, \"w\") as writer:\n",
    "    for i, row in sorted_sal[abs(sorted_sal.seniority_level - 0.5) > 0.2].iterrows():\n",
    "        obj = {\n",
    "            \"junior\": list(SYNONYMS[row.ordered_combination[0]]),\n",
    "            \"senior\": list(SYNONYMS[row.ordered_combination[1]])\n",
    "        }\n",
    "\n",
    "        writer.write(obj)"
   ]
  },
  {
   "cell_type": "code",
   "execution_count": null,
   "metadata": {},
   "outputs": [],
   "source": [
    "get_seniority(\"developer\", \"enterprise architect\", SENIORITY_MATRIX)"
   ]
  },
  {
   "cell_type": "code",
   "execution_count": null,
   "metadata": {},
   "outputs": [],
   "source": [
    "synonyms_len = [(k, len(v)) for k, v in SYNONYMS.items() if len(v) != 1]\n",
    "synonyms_len = sorted(synonyms_len, key=lambda x: x[1])\n",
    "\n",
    "synonyms_len[-20:]"
   ]
  },
  {
   "cell_type": "code",
   "execution_count": null,
   "metadata": {},
   "outputs": [],
   "source": [
    "pd.DataFrame(synonyms_len, columns=['job_title', 'job_count']).describe()"
   ]
  }
 ],
 "metadata": {
  "kernelspec": {
   "display_name": "ds",
   "language": "python",
   "name": "python3"
  },
  "language_info": {
   "codemirror_mode": {
    "name": "ipython",
    "version": 3
   },
   "file_extension": ".py",
   "mimetype": "text/x-python",
   "name": "python",
   "nbconvert_exporter": "python",
   "pygments_lexer": "ipython3"
  }
 },
 "nbformat": 4,
 "nbformat_minor": 2
}
